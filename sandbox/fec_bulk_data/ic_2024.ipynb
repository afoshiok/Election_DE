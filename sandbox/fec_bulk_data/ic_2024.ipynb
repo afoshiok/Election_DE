{
 "cells": [
  {
   "cell_type": "markdown",
   "metadata": {},
   "source": [
    "# Creating Individual Contributions for 2024 Election Cycle Dataset "
   ]
  },
  {
   "cell_type": "code",
   "execution_count": 3,
   "metadata": {},
   "outputs": [],
   "source": [
    "import pandas as pd"
   ]
  },
  {
   "cell_type": "code",
   "execution_count": 7,
   "metadata": {},
   "outputs": [
    {
     "name": "stdout",
     "output_type": "stream",
     "text": [
      "Empty DataFrame\n",
      "Columns: [CMTE_ID, AMNDT_IND, RPT_TP, TRANSACTION_PGI, IMAGE_NUM, TRANSACTION_TP, ENTITY_TP, NAME, CITY, STATE, ZIP_CODE, EMPLOYER, OCCUPATION, TRANSACTION_DT, TRANSACTION_AMT, OTHER_ID, TRAN_ID, FILE_NUM, MEMO_CD, MEMO_TEXT, SUB_ID]\n",
      "Index: []\n",
      "\n",
      "[0 rows x 21 columns]\n"
     ]
    }
   ],
   "source": [
    "headers_file = pd.read_csv(\"./indiv_header_file.csv\")\n",
    "headers = headers_file.columns.to_list()\n",
    "print(headers_file)"
   ]
  },
  {
   "cell_type": "code",
   "execution_count": 8,
   "metadata": {},
   "outputs": [
    {
     "name": "stderr",
     "output_type": "stream",
     "text": [
      "C:\\Users\\ayoku\\AppData\\Local\\Temp\\ipykernel_9524\\3339195101.py:1: DtypeWarning: Columns (10,18) have mixed types. Specify dtype option on import or set low_memory=False.\n",
      "  indiv_data = pd.read_csv(\"./itcont.csv\", delimiter=\"|\", header=None, names=headers)\n"
     ]
    },
    {
     "name": "stdout",
     "output_type": "stream",
     "text": [
      "9426288\n"
     ]
    }
   ],
   "source": [
    "indiv_data = pd.read_csv(\"./itcont.csv\", delimiter=\"|\", header=None, names=headers)\n",
    "print(len(indiv_data))"
   ]
  },
  {
   "cell_type": "code",
   "execution_count": 9,
   "metadata": {},
   "outputs": [
    {
     "name": "stdout",
     "output_type": "stream",
     "text": [
      "<bound method NDFrame.head of            CMTE_ID AMNDT_IND RPT_TP TRANSACTION_PGI           IMAGE_NUM  \\\n",
      "0        C00817940         T    TER               P  202301239574900260   \n",
      "1        C00817940         T    TER               P  202301239574900260   \n",
      "2        C00817940         T    TER               P  202301239574900260   \n",
      "3        C00817940         T    TER               P  202301239574900261   \n",
      "4        C00817940         T    TER               P  202301239574900261   \n",
      "...            ...       ...    ...             ...                 ...   \n",
      "9426283  C00401224         N     MY               P  202307319593019891   \n",
      "9426284  C00401224         N     MY               P  202307319593020012   \n",
      "9426285  C00401224         N     MY               P  202307319593019893   \n",
      "9426286  C00401224         N     MY               P  202307319593016751   \n",
      "9426287  C00401224         N     MY               P  202307319593016751   \n",
      "\n",
      "        TRANSACTION_TP ENTITY_TP             NAME         CITY STATE  ...  \\\n",
      "0                  22Y       IND      DUFF, JAMES  LOS ANGELES    CA  ...   \n",
      "1                  22Y       IND  ROTHMAN, ANDREW  CULVER CITY    CA  ...   \n",
      "2                  22Y       IND   PELLETT, CLARK      CHICAGO    IL  ...   \n",
      "3                  22Y       IND  DISNEY, TIMOTHY       ENCINO    CA  ...   \n",
      "4                  22Y       IND     TRONE, DAVID      POTOMAC    MD  ...   \n",
      "...                ...       ...              ...          ...   ...  ...   \n",
      "9426283            24T       IND     WOOD, MARTHA     AVONDALE    AZ  ...   \n",
      "9426284            24T       IND  WOOD, MCCRYSTLE   CINCINNATI    OH  ...   \n",
      "9426285            24T       IND     WOOD, MARTHA   WEST POINT    VA  ...   \n",
      "9426286            24T       IND    WONG, WILLIAM   SACRAMENTO    CA  ...   \n",
      "9426287            24T       IND    WONG, WILLIAM   SACRAMENTO    CA  ...   \n",
      "\n",
      "                             EMPLOYER     OCCUPATION TRANSACTION_DT  \\\n",
      "0                                 NaN            NaN        1192023   \n",
      "1                                 NaN            NaN        1192023   \n",
      "2                                 NaN            NaN        1202023   \n",
      "3                                 NaN            NaN        1192023   \n",
      "4                                 NaN            NaN        1192023   \n",
      "...                               ...            ...            ...   \n",
      "9426283                  NOT EMPLOYED   NOT EMPLOYED        5202023   \n",
      "9426284                          SELF         ARTIST        6212023   \n",
      "9426285  COSTUME/APPAREL CONSTRUCTION  SELF EMPLOYED        6272023   \n",
      "9426286                          SELF     CONSULTANT        6282023   \n",
      "9426287                          SELF     CONSULTANT        6302023   \n",
      "\n",
      "         TRANSACTION_AMT   OTHER_ID           TRAN_ID FILE_NUM  MEMO_CD  \\\n",
      "0                    800        NaN         500241283  1678288      NaN   \n",
      "1                    250        NaN         500241284  1678288      NaN   \n",
      "2                    345        NaN         500241285  1678288      NaN   \n",
      "3                    615        NaN         500241286  1678288      NaN   \n",
      "4                   5000        NaN         500241287  1678288      NaN   \n",
      "...                  ...        ...               ...      ...      ...   \n",
      "9426283              200  C00000935  SA11AI_529602728  1720554      NaN   \n",
      "9426284               19  C00000935  SA11AI_533544901  1720554      NaN   \n",
      "9426285              250  C00155952  SA11AI_534602305  1720554      NaN   \n",
      "9426286             1000  C00832170  SA11AI_534806971  1720554      NaN   \n",
      "9426287             1000  C00832170  SA11AI_535351439  1720554      NaN   \n",
      "\n",
      "                                                 MEMO_TEXT  \\\n",
      "0                                                      NaN   \n",
      "1                                                      NaN   \n",
      "2                                                      NaN   \n",
      "3                                                      NaN   \n",
      "4                                                      NaN   \n",
      "...                                                    ...   \n",
      "9426283                     EARMARKED FOR DCCC (C00000935)   \n",
      "9426284                     EARMARKED FOR DCCC (C00000935)   \n",
      "9426285  EARMARKED FOR DEMOCRATIC PARTY OF VIRGINIA - F...   \n",
      "9426286  EARMARKED FOR KIM NGUYEN FOR CONGRESS (C00832170)   \n",
      "9426287  EARMARKED FOR KIM NGUYEN FOR CONGRESS (C00832170)   \n",
      "\n",
      "                      SUB_ID  \n",
      "0        4012320231720334166  \n",
      "1        4012320231720334167  \n",
      "2        4012320231720334168  \n",
      "3        4012320231720334169  \n",
      "4        4012320231720334170  \n",
      "...                      ...  \n",
      "9426283  4081020231784971787  \n",
      "9426284  4081020231784973152  \n",
      "9426285  4081020231784971794  \n",
      "9426286  4081020231784953368  \n",
      "9426287  4081020231784953369  \n",
      "\n",
      "[9426288 rows x 21 columns]>\n"
     ]
    }
   ],
   "source": [
    "print(indiv_data.head)"
   ]
  }
 ],
 "metadata": {
  "kernelspec": {
   "display_name": "PersonalProj",
   "language": "python",
   "name": "python3"
  },
  "language_info": {
   "codemirror_mode": {
    "name": "ipython",
    "version": 3
   },
   "file_extension": ".py",
   "mimetype": "text/x-python",
   "name": "python",
   "nbconvert_exporter": "python",
   "pygments_lexer": "ipython3",
   "version": "3.10.8"
  }
 },
 "nbformat": 4,
 "nbformat_minor": 2
}
