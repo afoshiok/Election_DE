{
 "cells": [
  {
   "cell_type": "code",
   "execution_count": 2,
   "metadata": {},
   "outputs": [],
   "source": [
    "import polars as pl\n"
   ]
  },
  {
   "cell_type": "code",
   "execution_count": 36,
   "metadata": {},
   "outputs": [
    {
     "data": {
      "text/html": [
       "<div><style>\n",
       ".dataframe > thead > tr,\n",
       ".dataframe > tbody > tr {\n",
       "  text-align: right;\n",
       "  white-space: pre-wrap;\n",
       "}\n",
       "</style>\n",
       "<small>shape: (20, 21)</small><table border=\"1\" class=\"dataframe\"><thead><tr><th>CMTE_ID</th><th>AMNDT_IND</th><th>RPT_TP</th><th>TRANSACTION_PGI</th><th>IMAGE_NUM</th><th>TRANSACTION_TP</th><th>ENTITY_TP</th><th>NAME</th><th>CITY</th><th>STATE</th><th>ZIP_CODE</th><th>EMPLOYER</th><th>OCCUPATION</th><th>TRANSACTION_DT</th><th>TRANSACTION_AMT</th><th>OTHER_ID</th><th>TRAN_ID</th><th>FILE_NUM</th><th>MEMO_CD</th><th>MEMO_TEXT</th><th>SUB_ID</th></tr><tr><td>str</td><td>str</td><td>str</td><td>str</td><td>str</td><td>str</td><td>str</td><td>str</td><td>str</td><td>str</td><td>str</td><td>str</td><td>str</td><td>date</td><td>f64</td><td>str</td><td>str</td><td>i32</td><td>str</td><td>str</td><td>str</td></tr></thead><tbody><tr><td>&quot;C00817940&quot;</td><td>&quot;T&quot;</td><td>&quot;TER&quot;</td><td>&quot;P&quot;</td><td>&quot;20230123957490…</td><td>&quot;22Y&quot;</td><td>&quot;IND&quot;</td><td>&quot;DUFF, JAMES&quot;</td><td>&quot;LOS ANGELES&quot;</td><td>&quot;CA&quot;</td><td>&quot;900271058&quot;</td><td>null</td><td>null</td><td>2023-01-19</td><td>800.0</td><td>null</td><td>&quot;500241283&quot;</td><td>1678288</td><td>null</td><td>null</td><td>&quot;40123202317203…</td></tr><tr><td>&quot;C00817940&quot;</td><td>&quot;T&quot;</td><td>&quot;TER&quot;</td><td>&quot;P&quot;</td><td>&quot;20230123957490…</td><td>&quot;22Y&quot;</td><td>&quot;IND&quot;</td><td>&quot;ROTHMAN, ANDRE…</td><td>&quot;CULVER CITY&quot;</td><td>&quot;CA&quot;</td><td>&quot;902322403&quot;</td><td>null</td><td>null</td><td>2023-01-19</td><td>250.0</td><td>null</td><td>&quot;500241284&quot;</td><td>1678288</td><td>null</td><td>null</td><td>&quot;40123202317203…</td></tr><tr><td>&quot;C00817940&quot;</td><td>&quot;T&quot;</td><td>&quot;TER&quot;</td><td>&quot;P&quot;</td><td>&quot;20230123957490…</td><td>&quot;22Y&quot;</td><td>&quot;IND&quot;</td><td>&quot;PELLETT, CLARK…</td><td>&quot;CHICAGO&quot;</td><td>&quot;IL&quot;</td><td>&quot;606114546&quot;</td><td>null</td><td>null</td><td>2023-01-20</td><td>345.0</td><td>null</td><td>&quot;500241285&quot;</td><td>1678288</td><td>null</td><td>null</td><td>&quot;40123202317203…</td></tr><tr><td>&quot;C00817940&quot;</td><td>&quot;T&quot;</td><td>&quot;TER&quot;</td><td>&quot;P&quot;</td><td>&quot;20230123957490…</td><td>&quot;22Y&quot;</td><td>&quot;IND&quot;</td><td>&quot;DISNEY, TIMOTH…</td><td>&quot;ENCINO&quot;</td><td>&quot;CA&quot;</td><td>&quot;914361845&quot;</td><td>null</td><td>null</td><td>2023-01-19</td><td>615.0</td><td>null</td><td>&quot;500241286&quot;</td><td>1678288</td><td>null</td><td>null</td><td>&quot;40123202317203…</td></tr><tr><td>&quot;C00817940&quot;</td><td>&quot;T&quot;</td><td>&quot;TER&quot;</td><td>&quot;P&quot;</td><td>&quot;20230123957490…</td><td>&quot;22Y&quot;</td><td>&quot;IND&quot;</td><td>&quot;TRONE, DAVID&quot;</td><td>&quot;POTOMAC&quot;</td><td>&quot;MD&quot;</td><td>&quot;208541640&quot;</td><td>null</td><td>null</td><td>2023-01-19</td><td>5000.0</td><td>null</td><td>&quot;500241287&quot;</td><td>1678288</td><td>null</td><td>null</td><td>&quot;40123202317203…</td></tr><tr><td>&hellip;</td><td>&hellip;</td><td>&hellip;</td><td>&hellip;</td><td>&hellip;</td><td>&hellip;</td><td>&hellip;</td><td>&hellip;</td><td>&hellip;</td><td>&hellip;</td><td>&hellip;</td><td>&hellip;</td><td>&hellip;</td><td>&hellip;</td><td>&hellip;</td><td>&hellip;</td><td>&hellip;</td><td>&hellip;</td><td>&hellip;</td><td>&hellip;</td><td>&hellip;</td></tr><tr><td>&quot;C00796540&quot;</td><td>&quot;T&quot;</td><td>&quot;TER&quot;</td><td>&quot;P2022&quot;</td><td>&quot;20230113957468…</td><td>&quot;22Y&quot;</td><td>&quot;IND&quot;</td><td>&quot;ROSE, LISA&quot;</td><td>&quot;BROOKLYN&quot;</td><td>&quot;NY&quot;</td><td>&quot;112012129&quot;</td><td>null</td><td>null</td><td>2023-01-10</td><td>800.0</td><td>null</td><td>&quot;500209073&quot;</td><td>1676011</td><td>null</td><td>null</td><td>&quot;40121202317202…</td></tr><tr><td>&quot;C00796540&quot;</td><td>&quot;T&quot;</td><td>&quot;TER&quot;</td><td>&quot;G2022&quot;</td><td>&quot;20230113957468…</td><td>&quot;22Y&quot;</td><td>&quot;IND&quot;</td><td>&quot;ARONSON, BERNA…</td><td>&quot;TAKOMA PARK&quot;</td><td>&quot;MD&quot;</td><td>&quot;209124128&quot;</td><td>null</td><td>null</td><td>2023-01-05</td><td>1000.0</td><td>null</td><td>&quot;500209074&quot;</td><td>1676011</td><td>null</td><td>null</td><td>&quot;40121202317202…</td></tr><tr><td>&quot;C00796540&quot;</td><td>&quot;T&quot;</td><td>&quot;TER&quot;</td><td>&quot;G2022&quot;</td><td>&quot;20230113957468…</td><td>&quot;22Y&quot;</td><td>&quot;IND&quot;</td><td>&quot;AIZER, ROSEMAR…</td><td>&quot;NEW YORK&quot;</td><td>&quot;NY&quot;</td><td>&quot;100280139&quot;</td><td>null</td><td>null</td><td>2023-01-05</td><td>1000.0</td><td>null</td><td>&quot;500209075&quot;</td><td>1676011</td><td>null</td><td>null</td><td>&quot;40121202317202…</td></tr><tr><td>&quot;C00790964&quot;</td><td>&quot;T&quot;</td><td>&quot;TER&quot;</td><td>&quot;P2022&quot;</td><td>&quot;20230124957494…</td><td>&quot;15C&quot;</td><td>&quot;CAN&quot;</td><td>&quot;CASANOVA, MANU…</td><td>&quot;NEW ROCHELLE&quot;</td><td>&quot;NY&quot;</td><td>&quot;108044121&quot;</td><td>&quot;NEW YORK&#x27;S 16T…</td><td>&quot;CANDIDATE&quot;</td><td>2023-01-12</td><td>7500.0</td><td>&quot;H2NY16073&quot;</td><td>&quot;6024505&quot;</td><td>1679058</td><td>null</td><td>&quot;IN-KIND: LEGAL…</td><td>&quot;40125202317204…</td></tr><tr><td>&quot;C00790964&quot;</td><td>&quot;T&quot;</td><td>&quot;TER&quot;</td><td>&quot;P2022&quot;</td><td>&quot;20230124957494…</td><td>&quot;15C&quot;</td><td>&quot;CAN&quot;</td><td>&quot;CASANOVA, MANU…</td><td>&quot;NEW ROCHELLE&quot;</td><td>&quot;NY&quot;</td><td>&quot;108044121&quot;</td><td>&quot;NEW YORK&#x27;S 16T…</td><td>&quot;CANDIDATE&quot;</td><td>2023-01-17</td><td>5000.0</td><td>&quot;H2NY16073&quot;</td><td>&quot;6024469&quot;</td><td>1679058</td><td>null</td><td>&quot;IN-KIND: ACCOU…</td><td>&quot;40125202317204…</td></tr></tbody></table></div>"
      ],
      "text/plain": [
       "shape: (20, 21)\n",
       "┌───────────┬───────────┬────────┬─────────────┬───┬──────────┬─────────┬─────────────┬────────────┐\n",
       "│ CMTE_ID   ┆ AMNDT_IND ┆ RPT_TP ┆ TRANSACTION ┆ … ┆ FILE_NUM ┆ MEMO_CD ┆ MEMO_TEXT   ┆ SUB_ID     │\n",
       "│ ---       ┆ ---       ┆ ---    ┆ _PGI        ┆   ┆ ---      ┆ ---     ┆ ---         ┆ ---        │\n",
       "│ str       ┆ str       ┆ str    ┆ ---         ┆   ┆ i32      ┆ str     ┆ str         ┆ str        │\n",
       "│           ┆           ┆        ┆ str         ┆   ┆          ┆         ┆             ┆            │\n",
       "╞═══════════╪═══════════╪════════╪═════════════╪═══╪══════════╪═════════╪═════════════╪════════════╡\n",
       "│ C00817940 ┆ T         ┆ TER    ┆ P           ┆ … ┆ 1678288  ┆ null    ┆ null        ┆ 4012320231 │\n",
       "│           ┆           ┆        ┆             ┆   ┆          ┆         ┆             ┆ 720334166  │\n",
       "│ C00817940 ┆ T         ┆ TER    ┆ P           ┆ … ┆ 1678288  ┆ null    ┆ null        ┆ 4012320231 │\n",
       "│           ┆           ┆        ┆             ┆   ┆          ┆         ┆             ┆ 720334167  │\n",
       "│ C00817940 ┆ T         ┆ TER    ┆ P           ┆ … ┆ 1678288  ┆ null    ┆ null        ┆ 4012320231 │\n",
       "│           ┆           ┆        ┆             ┆   ┆          ┆         ┆             ┆ 720334168  │\n",
       "│ C00817940 ┆ T         ┆ TER    ┆ P           ┆ … ┆ 1678288  ┆ null    ┆ null        ┆ 4012320231 │\n",
       "│           ┆           ┆        ┆             ┆   ┆          ┆         ┆             ┆ 720334169  │\n",
       "│ C00817940 ┆ T         ┆ TER    ┆ P           ┆ … ┆ 1678288  ┆ null    ┆ null        ┆ 4012320231 │\n",
       "│           ┆           ┆        ┆             ┆   ┆          ┆         ┆             ┆ 720334170  │\n",
       "│ …         ┆ …         ┆ …      ┆ …           ┆ … ┆ …        ┆ …       ┆ …           ┆ …          │\n",
       "│ C00796540 ┆ T         ┆ TER    ┆ P2022       ┆ … ┆ 1676011  ┆ null    ┆ null        ┆ 4012120231 │\n",
       "│           ┆           ┆        ┆             ┆   ┆          ┆         ┆             ┆ 720217823  │\n",
       "│ C00796540 ┆ T         ┆ TER    ┆ G2022       ┆ … ┆ 1676011  ┆ null    ┆ null        ┆ 4012120231 │\n",
       "│           ┆           ┆        ┆             ┆   ┆          ┆         ┆             ┆ 720217824  │\n",
       "│ C00796540 ┆ T         ┆ TER    ┆ G2022       ┆ … ┆ 1676011  ┆ null    ┆ null        ┆ 4012120231 │\n",
       "│           ┆           ┆        ┆             ┆   ┆          ┆         ┆             ┆ 720217825  │\n",
       "│ C00790964 ┆ T         ┆ TER    ┆ P2022       ┆ … ┆ 1679058  ┆ null    ┆ IN-KIND:    ┆ 4012520231 │\n",
       "│           ┆           ┆        ┆             ┆   ┆          ┆         ┆ LEGAL AND   ┆ 720493914  │\n",
       "│           ┆           ┆        ┆             ┆   ┆          ┆         ┆ COMMUNICATI ┆            │\n",
       "│           ┆           ┆        ┆             ┆   ┆          ┆         ┆ ON…         ┆            │\n",
       "│ C00790964 ┆ T         ┆ TER    ┆ P2022       ┆ … ┆ 1679058  ┆ null    ┆ IN-KIND:    ┆ 4012520231 │\n",
       "│           ┆           ┆        ┆             ┆   ┆          ┆         ┆ ACCOUNTING, ┆ 720493915  │\n",
       "│           ┆           ┆        ┆             ┆   ┆          ┆         ┆ FEC,        ┆            │\n",
       "│           ┆           ┆        ┆             ┆   ┆          ┆         ┆ COMPLI…     ┆            │\n",
       "└───────────┴───────────┴────────┴─────────────┴───┴──────────┴─────────┴─────────────┴────────────┘"
      ]
     },
     "metadata": {},
     "output_type": "display_data"
    }
   ],
   "source": [
    "ic_file = \"./itcont.txt\"\n",
    "ic_schema = {\n",
    "    \"CMTE_ID\": pl.String,\n",
    "     \"AMNDT_IND\": pl.String,\n",
    "     \"RPT_TP\": pl.String,\n",
    "     \"TRANSACTION_PGI\": pl.String,\n",
    "     \"IMAGE_NUM\": pl.String,\n",
    "     \"TRANSACTION_TP\": pl.String,\n",
    "     \"ENTITY_TP\": pl.String,\n",
    "     \"NAME\": pl.String,\n",
    "     \"CITY\": pl.String,\n",
    "     \"STATE\": pl.String,\n",
    "     \"ZIP_CODE\": pl.String,\n",
    "     \"EMPLOYER\": pl.String,\n",
    "     \"OCCUPATION\": pl.String,\n",
    "     \"TRANSACTION_DT\": pl.String,\n",
    "     \"TRANSACTION_AMT\": pl.Float64,\n",
    "     \"OTHER_ID\": pl.String,\n",
    "     \"TRAN_ID\": pl.String,\n",
    "     \"FILE_NUM\": pl.Int32,\n",
    "     \"MEMO_CD\": pl.String,\n",
    "     \"MEMO_TEXT\": pl.String,\n",
    "     \"SUB_ID\": pl.String\n",
    "}\n",
    "header=pl.read_csv(source=\"./indiv_header_file .csv\", has_header=True)\n",
    "ic_df = pl.read_csv(ic_file, has_header=False, separator=\"|\", new_columns=header.columns, schema=ic_schema)\n",
    "final_df = ic_df.with_columns(\n",
    "    pl.col('TRANSACTION_DT').str.to_date(format='%m%d%Y')\n",
    ")\n",
    "\n",
    "\n",
    "display(final_df.head(20))"
   ]
  }
 ],
 "metadata": {
  "kernelspec": {
   "display_name": "PersonalProj",
   "language": "python",
   "name": "python3"
  },
  "language_info": {
   "codemirror_mode": {
    "name": "ipython",
    "version": 3
   },
   "file_extension": ".py",
   "mimetype": "text/x-python",
   "name": "python",
   "nbconvert_exporter": "python",
   "pygments_lexer": "ipython3",
   "version": "3.10.8"
  }
 },
 "nbformat": 4,
 "nbformat_minor": 2
}
