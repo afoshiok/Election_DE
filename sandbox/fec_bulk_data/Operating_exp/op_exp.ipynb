{
 "cells": [
  {
   "cell_type": "code",
   "execution_count": 1,
   "metadata": {},
   "outputs": [],
   "source": [
    "import pandas as pd"
   ]
  },
  {
   "cell_type": "code",
   "execution_count": 9,
   "metadata": {},
   "outputs": [
    {
     "name": "stderr",
     "output_type": "stream",
     "text": [
      "C:\\Users\\ayoku\\AppData\\Local\\Temp\\ipykernel_5188\\1933736173.py:5: DtypeWarning: Columns (16) have mixed types. Specify dtype option on import or set low_memory=False.\n",
      "  operating_exp_df = pd.read_csv(operating_exp_file,\n"
     ]
    },
    {
     "name": "stdout",
     "output_type": "stream",
     "text": [
      "CMTE_ID              object\n",
      "AMNDT_IND             int64\n",
      "RPT_YR               object\n",
      "RPT_TP                int64\n",
      "IMAGE_NUM            object\n",
      "LINE_NUM             object\n",
      "FORM_TP_CD           object\n",
      "SCHED_TP_CD          object\n",
      "NAME                 object\n",
      "CITY                 object\n",
      "STATE                object\n",
      "ZIP_CODE             object\n",
      "TRANSACTION_DT       object\n",
      "TRANSACTION_AMT      object\n",
      "TRANSACTION_PGI      object\n",
      "PURPOSE              object\n",
      "CATEGORY             object\n",
      "CATEGORY_DESC        object\n",
      "MEMO_CD              object\n",
      "MEMO_TEXT            object\n",
      "ENTITY_TP             int64\n",
      "SUB_ID                int64\n",
      "FILE_NUM             object\n",
      "TRAN_ID              object\n",
      "BACK_REF_TRAN_ID    float64\n",
      "dtype: object\n"
     ]
    }
   ],
   "source": [
    "header_file = \"./oppexp_header_file.csv\"\n",
    "operating_exp_file = \"./oppexp.txt\"\n",
    "\n",
    "operating_exp_header = pd.read_csv(header_file)\n",
    "operating_exp_df = pd.read_csv(operating_exp_file,\n",
    "                                       sep=\"|\",\n",
    "                                       names= operating_exp_header.columns,\n",
    "                                       dtype= {\"ZIP_CODE\" : \"object\", \"TRANSACTION_DT\": \"object\"}\n",
    "                                       )\n",
    "\n",
    "print(operating_exp_df.dtypes)"
   ]
  }
 ],
 "metadata": {
  "kernelspec": {
   "display_name": "PersonalProj",
   "language": "python",
   "name": "python3"
  },
  "language_info": {
   "codemirror_mode": {
    "name": "ipython",
    "version": 3
   },
   "file_extension": ".py",
   "mimetype": "text/x-python",
   "name": "python",
   "nbconvert_exporter": "python",
   "pygments_lexer": "ipython3",
   "version": "3.10.8"
  }
 },
 "nbformat": 4,
 "nbformat_minor": 2
}
