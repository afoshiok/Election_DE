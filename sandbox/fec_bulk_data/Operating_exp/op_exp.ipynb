{
 "cells": [
  {
   "cell_type": "code",
   "execution_count": 2,
   "metadata": {},
   "outputs": [],
   "source": [
    "import polars as pl"
   ]
  },
  {
   "cell_type": "code",
   "execution_count": 9,
   "metadata": {},
   "outputs": [],
   "source": [
    "header_file = \"./oppexp_header_file.csv\"\n",
    "operating_exp_file = \"./oppexp.txt\""
   ]
  },
  {
   "cell_type": "code",
   "execution_count": 15,
   "metadata": {},
   "outputs": [
    {
     "data": {
      "text/html": [
       "<div><style>\n",
       ".dataframe > thead > tr,\n",
       ".dataframe > tbody > tr {\n",
       "  text-align: right;\n",
       "  white-space: pre-wrap;\n",
       "}\n",
       "</style>\n",
       "<small>shape: (5, 26)</small><table border=\"1\" class=\"dataframe\"><thead><tr><th>column_1</th><th>column_2</th><th>column_3</th><th>column_4</th><th>column_5</th><th>column_6</th><th>column_7</th><th>column_8</th><th>column_9</th><th>column_10</th><th>column_11</th><th>column_12</th><th>column_13</th><th>column_14</th><th>column_15</th><th>column_16</th><th>column_17</th><th>column_18</th><th>column_19</th><th>column_20</th><th>column_21</th><th>column_22</th><th>column_23</th><th>column_24</th><th>column_25</th><th>column_26</th></tr><tr><td>str</td><td>str</td><td>i64</td><td>str</td><td>i64</td><td>str</td><td>str</td><td>str</td><td>str</td><td>str</td><td>str</td><td>i64</td><td>str</td><td>f64</td><td>str</td><td>str</td><td>i64</td><td>str</td><td>str</td><td>str</td><td>str</td><td>i64</td><td>i64</td><td>str</td><td>i64</td><td>str</td></tr></thead><tbody><tr><td>&quot;C00794982&quot;</td><td>&quot;A&quot;</td><td>2023</td><td>&quot;TER&quot;</td><td>202301109574642828</td><td>&quot;17&quot;</td><td>&quot;F3&quot;</td><td>&quot;SB&quot;</td><td>&quot;BROGHAMER CONS…</td><td>&quot;NEWPORT&quot;</td><td>&quot;KY&quot;</td><td>410712006</td><td>&quot;01/09/2023&quot;</td><td>1218.75</td><td>&quot;G2022&quot;</td><td>&quot;COMPLIANCE CON…</td><td>1</td><td>&quot;Administrative…</td><td>null</td><td>null</td><td>&quot;ORG&quot;</td><td>4012020231718627443</td><td>1675434</td><td>&quot;B99FBD49A0D104…</td><td>null</td><td>null</td></tr><tr><td>&quot;C00794982&quot;</td><td>&quot;A&quot;</td><td>2023</td><td>&quot;TER&quot;</td><td>202301109574642828</td><td>&quot;17&quot;</td><td>&quot;F3&quot;</td><td>&quot;SB&quot;</td><td>&quot;GRAUERT, MATTH…</td><td>&quot;LOUISVILLE&quot;</td><td>&quot;KY&quot;</td><td>402081850</td><td>&quot;01/04/2023&quot;</td><td>-100.0</td><td>&quot;G2022&quot;</td><td>&quot;VOID: COMMUNIC…</td><td>null</td><td>null</td><td>null</td><td>null</td><td>&quot;IND&quot;</td><td>4012020231718627444</td><td>1675434</td><td>&quot;B1F8C934294B84…</td><td>null</td><td>null</td></tr><tr><td>&quot;C00794982&quot;</td><td>&quot;A&quot;</td><td>2023</td><td>&quot;TER&quot;</td><td>202301109574642828</td><td>&quot;17&quot;</td><td>&quot;F3&quot;</td><td>&quot;SB&quot;</td><td>&quot;TELLO, KURT&quot;</td><td>&quot;LOUISVILLE&quot;</td><td>&quot;KY&quot;</td><td>402081850</td><td>&quot;01/04/2023&quot;</td><td>-100.0</td><td>&quot;G2022&quot;</td><td>&quot;VOID: COMMUNIC…</td><td>null</td><td>null</td><td>null</td><td>null</td><td>&quot;IND&quot;</td><td>4012020231718627445</td><td>1675434</td><td>&quot;B0C98B26380D94…</td><td>null</td><td>null</td></tr><tr><td>&quot;C00819177&quot;</td><td>&quot;T&quot;</td><td>2023</td><td>&quot;TER&quot;</td><td>202301109574642263</td><td>&quot;21B&quot;</td><td>&quot;F3X&quot;</td><td>&quot;SB&quot;</td><td>&quot;PURPURA, SALVA…</td><td>&quot;MONROE&quot;</td><td>&quot;NC&quot;</td><td>28110</td><td>&quot;01/01/2023&quot;</td><td>2887.5</td><td>null</td><td>&quot;COMPLIANCE CON…</td><td>null</td><td>null</td><td>null</td><td>null</td><td>&quot;IND&quot;</td><td>4011820231709508274</td><td>1675412</td><td>&quot;SB21.1323&quot;</td><td>null</td><td>null</td></tr><tr><td>&quot;C00819177&quot;</td><td>&quot;T&quot;</td><td>2023</td><td>&quot;TER&quot;</td><td>202301109574642263</td><td>&quot;21B&quot;</td><td>&quot;F3X&quot;</td><td>&quot;SB&quot;</td><td>&quot;PURPURA, SALVA…</td><td>&quot;MONROE&quot;</td><td>&quot;NC&quot;</td><td>28110</td><td>&quot;01/10/2023&quot;</td><td>34.99</td><td>null</td><td>&quot;PRINTING&quot;</td><td>null</td><td>null</td><td>null</td><td>null</td><td>&quot;IND&quot;</td><td>4011820231709508275</td><td>1675412</td><td>&quot;SB21.1323_B&quot;</td><td>null</td><td>null</td></tr></tbody></table></div>"
      ],
      "text/plain": [
       "shape: (5, 26)\n",
       "┌───────────┬──────────┬──────────┬──────────┬───┬───────────┬─────────────┬───────────┬───────────┐\n",
       "│ column_1  ┆ column_2 ┆ column_3 ┆ column_4 ┆ … ┆ column_23 ┆ column_24   ┆ column_25 ┆ column_26 │\n",
       "│ ---       ┆ ---      ┆ ---      ┆ ---      ┆   ┆ ---       ┆ ---         ┆ ---       ┆ ---       │\n",
       "│ str       ┆ str      ┆ i64      ┆ str      ┆   ┆ i64       ┆ str         ┆ i64       ┆ str       │\n",
       "╞═══════════╪══════════╪══════════╪══════════╪═══╪═══════════╪═════════════╪═══════════╪═══════════╡\n",
       "│ C00794982 ┆ A        ┆ 2023     ┆ TER      ┆ … ┆ 1675434   ┆ B99FBD49A0D ┆ null      ┆ null      │\n",
       "│           ┆          ┆          ┆          ┆   ┆           ┆ 1040A18CC   ┆           ┆           │\n",
       "│ C00794982 ┆ A        ┆ 2023     ┆ TER      ┆ … ┆ 1675434   ┆ B1F8C934294 ┆ null      ┆ null      │\n",
       "│           ┆          ┆          ┆          ┆   ┆           ┆ B849A1AE7   ┆           ┆           │\n",
       "│ C00794982 ┆ A        ┆ 2023     ┆ TER      ┆ … ┆ 1675434   ┆ B0C98B26380 ┆ null      ┆ null      │\n",
       "│           ┆          ┆          ┆          ┆   ┆           ┆ D94314B73   ┆           ┆           │\n",
       "│ C00819177 ┆ T        ┆ 2023     ┆ TER      ┆ … ┆ 1675412   ┆ SB21.1323   ┆ null      ┆ null      │\n",
       "│ C00819177 ┆ T        ┆ 2023     ┆ TER      ┆ … ┆ 1675412   ┆ SB21.1323_B ┆ null      ┆ null      │\n",
       "└───────────┴──────────┴──────────┴──────────┴───┴───────────┴─────────────┴───────────┴───────────┘"
      ]
     },
     "metadata": {},
     "output_type": "display_data"
    }
   ],
   "source": [
    "operating_check_exp_df = pl.read_csv(source=operating_exp_file, separator=\"|\", ignore_errors=True, has_header=False)\n",
    "\n",
    "num_columns = operating_check_exp_df.shape[1]\n",
    "# if num_columns == 25:\n",
    "#     print(\"Each row has a length of 25 columns.\")\n",
    "# else:\n",
    "#     print(f\"Each row has a length of {num_columns} columns, not 25.\")\n",
    "# print(\"Number of Non-NaN rows in 'extra' column \" + str(op_ex_check_df[25].notna().sum()))\n",
    "display(operating_check_exp_df.head(5))"
   ]
  },
  {
   "cell_type": "code",
   "execution_count": 35,
   "metadata": {},
   "outputs": [
    {
     "name": "stdout",
     "output_type": "stream",
     "text": [
      "{'column_1': 'CMTE_ID', 'column_2': 'AMNDT_IND', 'column_3': 'RPT_YR', 'column_4': 'RPT_TP', 'column_5': 'IMAGE_NUM', 'column_6': 'LINE_NUM', 'column_7': 'FORM_TP_CD', 'column_8': 'SCHED_TP_CD', 'column_9': 'NAME', 'column_10': 'CITY', 'column_11': 'STATE', 'column_12': 'ZIP_CODE', 'column_13': 'TRANSACTION_DT', 'column_14': 'TRANSACTION_AMT', 'column_15': 'TRANSACTION_PGI', 'column_16': 'PURPOSE', 'column_17': 'CATEGORY', 'column_18': 'CATEGORY_DESC', 'column_19': 'MEMO_CD', 'column_20': 'MEMO_TEXT', 'column_21': 'ENTITY_TP', 'column_22': 'SUB_ID', 'column_23': 'FILE_NUM', 'column_24': 'TRAN_ID', 'column_25': 'BACK_REF_TRAN_ID'}\n"
     ]
    },
    {
     "data": {
      "text/html": [
       "<div><style>\n",
       ".dataframe > thead > tr,\n",
       ".dataframe > tbody > tr {\n",
       "  text-align: right;\n",
       "  white-space: pre-wrap;\n",
       "}\n",
       "</style>\n",
       "<small>shape: (5, 25)</small><table border=\"1\" class=\"dataframe\"><thead><tr><th>CMTE_ID</th><th>AMNDT_IND</th><th>RPT_YR</th><th>RPT_TP</th><th>IMAGE_NUM</th><th>LINE_NUM</th><th>FORM_TP_CD</th><th>SCHED_TP_CD</th><th>NAME</th><th>CITY</th><th>STATE</th><th>ZIP_CODE</th><th>TRANSACTION_DT</th><th>TRANSACTION_AMT</th><th>TRANSACTION_PGI</th><th>PURPOSE</th><th>CATEGORY</th><th>CATEGORY_DESC</th><th>MEMO_CD</th><th>MEMO_TEXT</th><th>ENTITY_TP</th><th>SUB_ID</th><th>FILE_NUM</th><th>TRAN_ID</th><th>BACK_REF_TRAN_ID</th></tr><tr><td>str</td><td>str</td><td>i64</td><td>str</td><td>i64</td><td>str</td><td>str</td><td>str</td><td>str</td><td>str</td><td>str</td><td>i64</td><td>str</td><td>f64</td><td>str</td><td>str</td><td>i64</td><td>str</td><td>str</td><td>str</td><td>str</td><td>i64</td><td>i64</td><td>str</td><td>i64</td></tr></thead><tbody><tr><td>&quot;C00794982&quot;</td><td>&quot;A&quot;</td><td>2023</td><td>&quot;TER&quot;</td><td>202301109574642828</td><td>&quot;17&quot;</td><td>&quot;F3&quot;</td><td>&quot;SB&quot;</td><td>&quot;BROGHAMER CONS…</td><td>&quot;NEWPORT&quot;</td><td>&quot;KY&quot;</td><td>410712006</td><td>&quot;01/09/2023&quot;</td><td>1218.75</td><td>&quot;G2022&quot;</td><td>&quot;COMPLIANCE CON…</td><td>1</td><td>&quot;Administrative…</td><td>null</td><td>null</td><td>&quot;ORG&quot;</td><td>4012020231718627443</td><td>1675434</td><td>&quot;B99FBD49A0D104…</td><td>null</td></tr><tr><td>&quot;C00794982&quot;</td><td>&quot;A&quot;</td><td>2023</td><td>&quot;TER&quot;</td><td>202301109574642828</td><td>&quot;17&quot;</td><td>&quot;F3&quot;</td><td>&quot;SB&quot;</td><td>&quot;GRAUERT, MATTH…</td><td>&quot;LOUISVILLE&quot;</td><td>&quot;KY&quot;</td><td>402081850</td><td>&quot;01/04/2023&quot;</td><td>-100.0</td><td>&quot;G2022&quot;</td><td>&quot;VOID: COMMUNIC…</td><td>null</td><td>null</td><td>null</td><td>null</td><td>&quot;IND&quot;</td><td>4012020231718627444</td><td>1675434</td><td>&quot;B1F8C934294B84…</td><td>null</td></tr><tr><td>&quot;C00794982&quot;</td><td>&quot;A&quot;</td><td>2023</td><td>&quot;TER&quot;</td><td>202301109574642828</td><td>&quot;17&quot;</td><td>&quot;F3&quot;</td><td>&quot;SB&quot;</td><td>&quot;TELLO, KURT&quot;</td><td>&quot;LOUISVILLE&quot;</td><td>&quot;KY&quot;</td><td>402081850</td><td>&quot;01/04/2023&quot;</td><td>-100.0</td><td>&quot;G2022&quot;</td><td>&quot;VOID: COMMUNIC…</td><td>null</td><td>null</td><td>null</td><td>null</td><td>&quot;IND&quot;</td><td>4012020231718627445</td><td>1675434</td><td>&quot;B0C98B26380D94…</td><td>null</td></tr><tr><td>&quot;C00819177&quot;</td><td>&quot;T&quot;</td><td>2023</td><td>&quot;TER&quot;</td><td>202301109574642263</td><td>&quot;21B&quot;</td><td>&quot;F3X&quot;</td><td>&quot;SB&quot;</td><td>&quot;PURPURA, SALVA…</td><td>&quot;MONROE&quot;</td><td>&quot;NC&quot;</td><td>28110</td><td>&quot;01/01/2023&quot;</td><td>2887.5</td><td>null</td><td>&quot;COMPLIANCE CON…</td><td>null</td><td>null</td><td>null</td><td>null</td><td>&quot;IND&quot;</td><td>4011820231709508274</td><td>1675412</td><td>&quot;SB21.1323&quot;</td><td>null</td></tr><tr><td>&quot;C00819177&quot;</td><td>&quot;T&quot;</td><td>2023</td><td>&quot;TER&quot;</td><td>202301109574642263</td><td>&quot;21B&quot;</td><td>&quot;F3X&quot;</td><td>&quot;SB&quot;</td><td>&quot;PURPURA, SALVA…</td><td>&quot;MONROE&quot;</td><td>&quot;NC&quot;</td><td>28110</td><td>&quot;01/10/2023&quot;</td><td>34.99</td><td>null</td><td>&quot;PRINTING&quot;</td><td>null</td><td>null</td><td>null</td><td>null</td><td>&quot;IND&quot;</td><td>4011820231709508275</td><td>1675412</td><td>&quot;SB21.1323_B&quot;</td><td>null</td></tr></tbody></table></div>"
      ],
      "text/plain": [
       "shape: (5, 25)\n",
       "┌───────────┬───────────┬────────┬────────┬───┬─────────────┬──────────┬─────────────┬─────────────┐\n",
       "│ CMTE_ID   ┆ AMNDT_IND ┆ RPT_YR ┆ RPT_TP ┆ … ┆ SUB_ID      ┆ FILE_NUM ┆ TRAN_ID     ┆ BACK_REF_TR │\n",
       "│ ---       ┆ ---       ┆ ---    ┆ ---    ┆   ┆ ---         ┆ ---      ┆ ---         ┆ AN_ID       │\n",
       "│ str       ┆ str       ┆ i64    ┆ str    ┆   ┆ i64         ┆ i64      ┆ str         ┆ ---         │\n",
       "│           ┆           ┆        ┆        ┆   ┆             ┆          ┆             ┆ i64         │\n",
       "╞═══════════╪═══════════╪════════╪════════╪═══╪═════════════╪══════════╪═════════════╪═════════════╡\n",
       "│ C00794982 ┆ A         ┆ 2023   ┆ TER    ┆ … ┆ 40120202317 ┆ 1675434  ┆ B99FBD49A0D ┆ null        │\n",
       "│           ┆           ┆        ┆        ┆   ┆ 18627443    ┆          ┆ 1040A18CC   ┆             │\n",
       "│ C00794982 ┆ A         ┆ 2023   ┆ TER    ┆ … ┆ 40120202317 ┆ 1675434  ┆ B1F8C934294 ┆ null        │\n",
       "│           ┆           ┆        ┆        ┆   ┆ 18627444    ┆          ┆ B849A1AE7   ┆             │\n",
       "│ C00794982 ┆ A         ┆ 2023   ┆ TER    ┆ … ┆ 40120202317 ┆ 1675434  ┆ B0C98B26380 ┆ null        │\n",
       "│           ┆           ┆        ┆        ┆   ┆ 18627445    ┆          ┆ D94314B73   ┆             │\n",
       "│ C00819177 ┆ T         ┆ 2023   ┆ TER    ┆ … ┆ 40118202317 ┆ 1675412  ┆ SB21.1323   ┆ null        │\n",
       "│           ┆           ┆        ┆        ┆   ┆ 09508274    ┆          ┆             ┆             │\n",
       "│ C00819177 ┆ T         ┆ 2023   ┆ TER    ┆ … ┆ 40118202317 ┆ 1675412  ┆ SB21.1323_B ┆ null        │\n",
       "│           ┆           ┆        ┆        ┆   ┆ 09508275    ┆          ┆             ┆             │\n",
       "└───────────┴───────────┴────────┴────────┴───┴─────────────┴──────────┴─────────────┴─────────────┘"
      ]
     },
     "metadata": {},
     "output_type": "display_data"
    }
   ],
   "source": [
    "operating_exp_df = pl.read_csv(source=operating_exp_file, separator=\"|\", ignore_errors=True, has_header=False) #Won't add a header yet, need to drop an extra column.\n",
    "operating_exp_df = operating_exp_df.drop(operating_exp_df.columns[-1]) #Removing the extra column Pandas added\n",
    "current_columns = operating_exp_df.columns\n",
    "operating_exp_header = pl.read_csv(source=header_file, has_header=True)\n",
    "new_columns = operating_exp_header.columns\n",
    "\n",
    "column_rename = dict(zip(current_columns,new_columns))\n",
    "\n",
    "print(column_rename)\n",
    "operating_exp_df = operating_exp_df.rename(column_rename)\n",
    "\n",
    "display(operating_exp_df.head(5))"
   ]
  }
 ],
 "metadata": {
  "kernelspec": {
   "display_name": "PersonalProj",
   "language": "python",
   "name": "python3"
  },
  "language_info": {
   "codemirror_mode": {
    "name": "ipython",
    "version": 3
   },
   "file_extension": ".py",
   "mimetype": "text/x-python",
   "name": "python",
   "nbconvert_exporter": "python",
   "pygments_lexer": "ipython3",
   "version": "3.10.8"
  }
 },
 "nbformat": 4,
 "nbformat_minor": 2
}
