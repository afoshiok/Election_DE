{
 "cells": [
  {
   "cell_type": "markdown",
   "metadata": {},
   "source": [
    "# Creating Individual Contributions for 2024 Election Cycle Dataset "
   ]
  },
  {
   "cell_type": "code",
   "execution_count": 13,
   "metadata": {},
   "outputs": [],
   "source": [
    "import pandas as pd\n",
    "import os\n",
    "import requests\n",
    "import datetime\n",
    "import zipfile"
   ]
  },
  {
   "cell_type": "markdown",
   "metadata": {},
   "source": [
    "## Programmatically downloading zipped file of Individual Contributions\n",
    "For now, I am storing all the files locally but, in production I will store these files in an S3 bucket."
   ]
  },
  {
   "cell_type": "code",
   "execution_count": 14,
   "metadata": {},
   "outputs": [
    {
     "name": "stdout",
     "output_type": "stream",
     "text": [
      "File succefully added to ./zipped/ic24_2024-01-30.zip \n"
     ]
    }
   ],
   "source": [
    "url = \"http://www.fec.gov/files/bulk-downloads/2024/indiv24.zip\" #Link to zip file containing all individual contritibutions for the 2024 election cycle\n",
    "current_date = datetime.datetime.now()\n",
    "current_date_fmt = current_date.strftime(\"%Y-%m-%d\")\n",
    "\n",
    "output_path = f\"./zipped/ic24_{current_date_fmt}.zip\"\n",
    "file_req = requests.get(url)\n",
    "\n",
    "with open(output_path,'wb') as output_file:\n",
    "    output_file.write(file_req.content)\n",
    "\n",
    "print(f\"File succefully added to {output_path} \")\n",
    "\n"
   ]
  }
 ],
 "metadata": {
  "kernelspec": {
   "display_name": "PersonalProj",
   "language": "python",
   "name": "python3"
  },
  "language_info": {
   "codemirror_mode": {
    "name": "ipython",
    "version": 3
   },
   "file_extension": ".py",
   "mimetype": "text/x-python",
   "name": "python",
   "nbconvert_exporter": "python",
   "pygments_lexer": "ipython3",
   "version": "3.10.8"
  }
 },
 "nbformat": 4,
 "nbformat_minor": 2
}
